{
 "cells": [
  {
   "cell_type": "code",
   "execution_count": 1,
   "metadata": {},
   "outputs": [],
   "source": [
    "import pandas as pd\n",
    "import numpy as np\n",
    "import random\n",
    "import json\n",
    "from IPython.display import display\n",
    "from typing import Dict, List, Tuple\n",
    "import os\n",
    "from tqdm import tqdm_notebook as tqdm\n",
    "from multiprocessing import Pool, cpu_count"
   ]
  },
  {
   "cell_type": "code",
   "execution_count": 2,
   "metadata": {},
   "outputs": [],
   "source": [
    "source = \"../data/normalized_new_zeland.csv\"\n",
    "sink = \"../generated\"\n",
    "synonims_path = \"../data/synonims.json\""
   ]
  },
  {
   "cell_type": "code",
   "execution_count": 3,
   "metadata": {},
   "outputs": [],
   "source": [
    "def load_synonims(path:str):\n",
    "    \"\"\"Load synonims from the given path.\n",
    "        path:str, path from which to given path.\n",
    "    \"\"\"\n",
    "    with open(path, \"r\") as f:\n",
    "        data = json.load(f)\n",
    "    return {\n",
    "        key: value + [key] for key, value in data.items()\n",
    "    }"
   ]
  },
  {
   "cell_type": "code",
   "execution_count": 4,
   "metadata": {},
   "outputs": [],
   "source": [
    "def sample(array:np.array):\n",
    "    \"\"\"Randomly sample given array.\"\"\"\n",
    "    return random.sample(array.tolist(), random.randint(1, array.size))"
   ]
  },
  {
   "cell_type": "code",
   "execution_count": 5,
   "metadata": {},
   "outputs": [],
   "source": [
    "def wiggle_names(name:str, word_drop:float):\n",
    "    \"\"\"Drop words from the name with given probability.\n",
    "        name:str, name to edit.\n",
    "        word_drop:float, probability to drop word.\n",
    "    \"\"\"\n",
    "    new_name = \",\".join([\n",
    "        word for word in name.split(\",\") if random.random() > word_drop\n",
    "    ])\n",
    "    return new_name if new_name else random.choice(name.split(\",\"))"
   ]
  },
  {
   "cell_type": "code",
   "execution_count": 6,
   "metadata": {},
   "outputs": [],
   "source": [
    "def generate_dataframe(original:pd.DataFrame, names_column:str, synonims:Dict[str, List[str]], path:str, nan_percentage:float=0.01, gaussian_noise:float=0.1, noise_base_variance:float=0, name_word_drop:float=0.1):\n",
    "    \"\"\"Generate a random pandas DataFrame and saves it and its original data.\n",
    "        original:pd.DataFrame, the original dataframe from which to generate the new datasets.\n",
    "        names_column:str, the name of the column containing the row names or descripttion.\n",
    "        synonims:Dict[str, List[str]], dictionary of synonims.\n",
    "        path:str, base directory to which save results.\n",
    "        nan_percentage:float=0.01, probability of turning values to NaN.\n",
    "        gaussian_noise:float=0.1, gaussian noise intensity (mean).\n",
    "        noise_base_variance:float=0, basic noise variance.\n",
    "        name_word_drop:float=0.1, probability to drop a word from the name.\n",
    "    \"\"\"\n",
    "    assert names_column in original.columns\n",
    "    params = {\n",
    "        \"nan_percentage\":nan_percentage,\n",
    "        \"gaussian_noise\":gaussian_noise,\n",
    "        \"noise_base_variance\":noise_base_variance,\n",
    "        \"name_word_drop\":name_word_drop\n",
    "    }\n",
    "    os.makedirs(\n",
    "        path,\n",
    "        exist_ok=True\n",
    "    )\n",
    "    cols =  [names_column] + sample(original.columns[1:])\n",
    "    index = sample(original.index)\n",
    "    new = original[cols].loc[index]\n",
    "    # Dropping words in name\n",
    "    new[names_column] = [\n",
    "        wiggle_names(name, name_word_drop) for name in new[names_column]\n",
    "    ]\n",
    "    # Renaming columns\n",
    "    new = new.rename(index=str, columns={\n",
    "        c:random.choice(synonims[c]) for c in cols\n",
    "    })\n",
    "    # Applying gaussian noise\n",
    "    variance = np.power(np.nanvar(new[new.columns[1:]].values, axis=0), 1/3)\n",
    "    noise = np.vstack([\n",
    "        np.random.normal(gaussian_noise, var, new.shape[0]) for var in variance+noise_base_variance\n",
    "    ]).T\n",
    "    new[new.columns[1:]] = np.abs(new[new.columns[1:]]+noise)\n",
    "    # Applying a mask of NaN\n",
    "    nan_mask = np.random.choice([True, False], size=new[new.columns[1:]].shape, p=[nan_percentage, 1-nan_percentage])\n",
    "    values = new[new.columns[1:]].values\n",
    "    values[nan_mask] = np.NaN\n",
    "    new[new.columns[1:]] = values\n",
    "    # Saving parameters\n",
    "    with open(\"{path}/params.json\".format(path=path), \"w\") as f:\n",
    "        json.dump(params, f)\n",
    "    # Saving original columns and indices\n",
    "    pd.DataFrame({\n",
    "        \"original\": cols,\n",
    "        \"generated\": new.columns\n",
    "    }).to_csv(\"{path}/columns.csv\".format(path=path))\n",
    "    pd.DataFrame({\n",
    "        \"original\": index,\n",
    "        \"generated\": new.index\n",
    "    }).to_csv(\"{path}/index.csv\".format(path=path))\n",
    "    # Saving generated dataset\n",
    "    new.to_csv(\"{path}/generated.csv\".format(path=path))\n",
    "    "
   ]
  },
  {
   "cell_type": "code",
   "execution_count": 7,
   "metadata": {},
   "outputs": [],
   "source": [
    "def job(task):\n",
    "    generate_dataframe(*task)"
   ]
  },
  {
   "cell_type": "code",
   "execution_count": 8,
   "metadata": {
    "scrolled": false
   },
   "outputs": [
    {
     "data": {
      "application/vnd.jupyter.widget-view+json": {
       "model_id": "458c246035f246a2b97bdc72dafae234",
       "version_major": 2,
       "version_minor": 0
      },
      "text/plain": [
       "HBox(children=(IntProgress(value=0, description='Task generation', max=10, style=ProgressStyle(description_wid…"
      ]
     },
     "metadata": {},
     "output_type": "display_data"
    },
    {
     "name": "stdout",
     "output_type": "stream",
     "text": [
      "\n"
     ]
    }
   ],
   "source": [
    "tasks = []\n",
    "dataframe = pd.read_csv(source, index_col=0)\n",
    "synonims = load_synonims(synonims_path)\n",
    "i=0\n",
    "for nan_percentage in tqdm(np.linspace(0, 0.75, 10), desc=\"Task generation\"):\n",
    "    for gaussian_noise in np.linspace(0, 20, 10):\n",
    "        for noise_base_variance in np.linspace(0, 10, 10):\n",
    "            for name_word_drop in np.linspace(0, 1, 10):\n",
    "                tasks.append((\n",
    "                    dataframe,\n",
    "                    \"short food name\",\n",
    "                    synonims,\n",
    "                    \"../generated/{i}\".format(i=i),\n",
    "                    nan_percentage,\n",
    "                    gaussian_noise,\n",
    "                    noise_base_variance,\n",
    "                    name_word_drop\n",
    "                ))\n",
    "                i+=1"
   ]
  },
  {
   "cell_type": "code",
   "execution_count": 9,
   "metadata": {},
   "outputs": [
    {
     "data": {
      "application/vnd.jupyter.widget-view+json": {
       "model_id": "ef74f8c25dc74d729ef270d52d69f66d",
       "version_major": 2,
       "version_minor": 0
      },
      "text/plain": [
       "HBox(children=(IntProgress(value=0, description='Rendering', max=10000, style=ProgressStyle(description_width=…"
      ]
     },
     "metadata": {},
     "output_type": "display_data"
    },
    {
     "name": "stderr",
     "output_type": "stream",
     "text": [
      "/usr/local/anaconda3/lib/python3.7/site-packages/ipykernel_launcher.py:35: RuntimeWarning: Degrees of freedom <= 0 for slice.\n",
      "/usr/local/anaconda3/lib/python3.7/site-packages/ipykernel_launcher.py:35: RuntimeWarning: Degrees of freedom <= 0 for slice.\n",
      "/usr/local/anaconda3/lib/python3.7/site-packages/ipykernel_launcher.py:35: RuntimeWarning: Degrees of freedom <= 0 for slice.\n",
      "/usr/local/anaconda3/lib/python3.7/site-packages/ipykernel_launcher.py:35: RuntimeWarning: Degrees of freedom <= 0 for slice.\n",
      "/usr/local/anaconda3/lib/python3.7/site-packages/ipykernel_launcher.py:35: RuntimeWarning: Degrees of freedom <= 0 for slice.\n"
     ]
    },
    {
     "name": "stdout",
     "output_type": "stream",
     "text": [
      "\n"
     ]
    }
   ],
   "source": [
    "with Pool(cpu_count()) as p:\n",
    "    list(tqdm(p.imap(job, tasks), desc=\"Rendering\", total=len(tasks)))"
   ]
  }
 ],
 "metadata": {
  "kernelspec": {
   "display_name": "Python 3",
   "language": "python",
   "name": "python3"
  },
  "language_info": {
   "codemirror_mode": {
    "name": "ipython",
    "version": 3
   },
   "file_extension": ".py",
   "mimetype": "text/x-python",
   "name": "python",
   "nbconvert_exporter": "python",
   "pygments_lexer": "ipython3",
   "version": "3.7.1"
  }
 },
 "nbformat": 4,
 "nbformat_minor": 2
}
