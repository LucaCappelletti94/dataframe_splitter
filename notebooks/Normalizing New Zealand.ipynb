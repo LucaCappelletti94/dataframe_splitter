{
 "cells": [
  {
   "cell_type": "code",
   "execution_count": 1,
   "metadata": {},
   "outputs": [],
   "source": [
    "import pandas as pd\n",
    "import numpy as np\n",
    "import re"
   ]
  },
  {
   "cell_type": "code",
   "execution_count": 2,
   "metadata": {},
   "outputs": [],
   "source": [
    "df = pd.read_csv(\"../data/new_zeland.csv\", sep=\";\")\n",
    "# Dropping nans and double rows\n",
    "df = df.drop(index=df.index[np.any([pd.isna(df[\"FoodID\"]).values, np.sum(pd.isna(df), axis=1)>10], axis=0)]).drop(columns=[\"FoodID\"])\n",
    "# Drop spaces in column names\n",
    "df.columns = [re.sub(r\"\\s+\", \" \", col.lower()).strip() for col in df.columns]\n",
    "# Drop columns that I don't understand what are\n",
    "df = df.drop(columns=[\"energy (nip)\"])"
   ]
  },
  {
   "cell_type": "code",
   "execution_count": 3,
   "metadata": {},
   "outputs": [],
   "source": [
    "df.to_csv(\"../data/normalized_new_zeland.csv\")"
   ]
  }
 ],
 "metadata": {
  "kernelspec": {
   "display_name": "Python 3",
   "language": "python",
   "name": "python3"
  },
  "language_info": {
   "codemirror_mode": {
    "name": "ipython",
    "version": 3
   },
   "file_extension": ".py",
   "mimetype": "text/x-python",
   "name": "python",
   "nbconvert_exporter": "python",
   "pygments_lexer": "ipython3",
   "version": "3.7.1"
  }
 },
 "nbformat": 4,
 "nbformat_minor": 2
}
